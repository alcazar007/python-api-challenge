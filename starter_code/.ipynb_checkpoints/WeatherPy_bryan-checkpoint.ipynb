{
 "cells": [
  {
   "cell_type": "markdown",
   "metadata": {},
   "source": [
    "# WeatherPy\n",
    "----\n",
    "\n",
    "#### Note\n",
    "* Instructions have been included for each segment. You do not have to follow them exactly, but they are included to help you think through the steps."
   ]
  },
  {
   "cell_type": "code",
   "execution_count": 1,
   "metadata": {
    "scrolled": true
   },
   "outputs": [],
   "source": [
    "# Dependencies and Setup\n",
    "import matplotlib.pyplot as plt\n",
    "import pandas as pd\n",
    "import numpy as np\n",
    "import requests\n",
    "import time\n",
    "from scipy.stats import linregress\n",
    "\n",
    "# Import API key\n",
    "from api_keys import weather_api_key\n",
    "\n",
    "# Incorporated citipy to determine city based on latitude and longitude\n",
    "from citipy import citipy  \n",
    "#from citipy import city # this shit doesnt work\n",
    "\n",
    "# Output File (CSV)\n",
    "output_data_file = \"output_data/cities.csv\"\n",
    "\n",
    "# Range of latitudes and longitudes\n",
    "lat_range = (-90, 90)\n",
    "lng_range = (-180, 180)"
   ]
  },
  {
   "cell_type": "markdown",
   "metadata": {},
   "source": [
    "## Generate Cities List"
   ]
  },
  {
   "cell_type": "code",
   "execution_count": 2,
   "metadata": {},
   "outputs": [
    {
     "data": {
      "text/plain": [
       "631"
      ]
     },
     "execution_count": 2,
     "metadata": {},
     "output_type": "execute_result"
    }
   ],
   "source": [
    "# List for holding lat_lngs and cities\n",
    "lat_lngs = []\n",
    "cities = []\n",
    "\n",
    "# Create a set of random lat and lng combinations\n",
    "lats = np.random.uniform(low=-90.000, high=90.000, size=1500)\n",
    "lngs = np.random.uniform(low=-180.000, high=180.000, size=1500)\n",
    "lat_lngs = zip(lats, lngs)\n",
    "\n",
    "# Identify nearest city for each lat, lng combination\n",
    "for lat_lng in lat_lngs:\n",
    "    city = citipy.nearest_city(lat_lng[0], lat_lng[1]).city_name\n",
    "    \n",
    "    # If the city is unique, then add it to a our cities list\n",
    "    if city not in cities:\n",
    "        cities.append(city)\n",
    "\n",
    "# Print the city count to confirm sufficient count\n",
    "len(cities)\n"
   ]
  },
  {
   "cell_type": "markdown",
   "metadata": {},
   "source": [
    "### Perform API Calls\n",
    "* Perform a weather check on each city using a series of successive API calls.\n",
    "* Include a print log of each city as it'sbeing processed (with the city number and city name).\n"
   ]
  },
  {
   "cell_type": "code",
   "execution_count": 3,
   "metadata": {
    "scrolled": true
   },
   "outputs": [
    {
     "name": "stdout",
     "output_type": "stream",
     "text": [
      "torbay\n",
      "khasan\n",
      "chuy\n",
      "mataura\n",
      "rudnaya pristan\n",
      "souillac\n",
      "ushuaia\n",
      "katsuura\n",
      "galesburg\n",
      "rikitea\n",
      "la ronge\n",
      "qaanaaq\n",
      "lagoa\n",
      "rauma\n",
      "city not found\n",
      "port elizabeth\n",
      "askiz\n",
      "atuona\n",
      "busselton\n",
      "campbell river\n",
      "clermont\n",
      "bredasdorp\n",
      "luoyang\n",
      "kapaa\n",
      "lamu\n",
      "vardo\n",
      "mapastepec\n",
      "puerto ayora\n",
      "lavrentiya\n",
      "linxia\n",
      "coswig\n",
      "city not found\n",
      "chokurdakh\n",
      "fortuna\n",
      "salinas\n",
      "codrington\n",
      "chapais\n",
      "havoysund\n",
      "kendari\n",
      "ponta do sol\n",
      "vrangel\n",
      "lambarene\n",
      "city not found\n",
      "wawa\n",
      "victoria\n",
      "sao joao dos patos\n",
      "ust-kuyga\n",
      "bud\n",
      "east london\n",
      "albany\n",
      "butaritari\n",
      "bluff\n",
      "mehamn\n",
      "teguldet\n",
      "mbandaka\n",
      "city not found\n",
      "cape town\n",
      "baykit\n",
      "georgetown\n",
      "jamestown\n",
      "anchorage\n",
      "paracuru\n",
      "quatre cocos\n",
      "punta arenas\n",
      "safaga\n",
      "guangyuan\n",
      "dikson\n",
      "san cristobal\n",
      "vao\n",
      "kodiak\n",
      "gigmoto\n",
      "spring hill\n",
      "kahului\n",
      "port alfred\n",
      "mitsamiouli\n",
      "norman wells\n",
      "airai\n",
      "saint-augustin\n",
      "bethel\n",
      "barrow\n",
      "new norfolk\n",
      "rudbar\n",
      "ola\n",
      "road town\n",
      "nechanice\n",
      "provideniya\n",
      "loncoche\n",
      "sibolga\n",
      "mangan\n",
      "kathu\n",
      "hami\n",
      "hithadhoo\n",
      "avarua\n",
      "maniitsoq\n",
      "yangcun\n",
      "hermanus\n",
      "arraial do cabo\n",
      "saldanha\n",
      "longyearbyen\n",
      "chenzhou\n",
      "city not found\n",
      "yeppoon\n",
      "hilo\n",
      "kaitangata\n",
      "city not found\n",
      "srednekolymsk\n",
      "tasiilaq\n",
      "city not found\n",
      "nandi\n",
      "mahebourg\n",
      "city not found\n",
      "richards bay\n",
      "salta\n",
      "yellowknife\n",
      "hun\n",
      "xuddur\n",
      "ialibu\n",
      "bambous virieux\n",
      "saint-philippe\n",
      "college\n",
      "pevek\n",
      "city not found\n",
      "skjervoy\n",
      "husavik\n",
      "flinders\n",
      "vaini\n",
      "ostrovnoy\n",
      "city not found\n",
      "city not found\n",
      "sungai besar\n",
      "city not found\n",
      "beira\n",
      "puyang\n",
      "lebu\n",
      "city not found\n",
      "city not found\n",
      "city not found\n",
      "san patricio\n",
      "bolivar\n",
      "salalah\n",
      "upernavik\n",
      "pimentel\n",
      "hobart\n",
      "coahuayana\n",
      "leningradskiy\n",
      "city not found\n",
      "tuktoyaktuk\n",
      "garissa\n",
      "city not found\n",
      "ilulissat\n",
      "ayan\n",
      "city not found\n",
      "horsham\n",
      "chilca\n",
      "hirara\n",
      "palu\n",
      "port hardy\n",
      "pangoa\n",
      "mar del plata\n",
      "hamilton\n",
      "guruvayur\n",
      "mukhen\n",
      "alofi\n",
      "hualmay\n",
      "caravelas\n",
      "aanekoski\n",
      "sirnak\n",
      "vila franca do campo\n",
      "port hedland\n",
      "upata\n",
      "denpasar\n",
      "hefei\n",
      "ahipara\n",
      "kabinda\n",
      "city not found\n",
      "geraldton\n",
      "bengkulu\n",
      "elk point\n",
      "grenfell\n",
      "jinxiang\n",
      "esmeraldas\n",
      "tyrma\n",
      "sambava\n",
      "comodoro rivadavia\n",
      "jalu\n",
      "carnarvon\n",
      "laguna\n",
      "glenluce\n",
      "thompson\n",
      "manzhouli\n",
      "nikolskoye\n",
      "broome\n",
      "alyangula\n",
      "macapa\n",
      "broadford\n",
      "castro\n",
      "asau\n",
      "nuuk\n",
      "muli\n",
      "maceio\n",
      "muroto\n",
      "ojinaga\n",
      "tucuman\n",
      "kiunga\n",
      "okhotsk\n",
      "jiangkou\n",
      "nossa senhora da gloria\n",
      "north platte\n",
      "maragogi\n",
      "longyan\n",
      "tiksi\n",
      "rocha\n",
      "bafoulabe\n",
      "itupiranga\n",
      "bela\n",
      "henties bay\n",
      "dolores\n",
      "ushumun\n",
      "kendrapara\n",
      "pacifica\n",
      "city not found\n",
      "wuchi\n",
      "araripina\n",
      "roma\n",
      "leh\n",
      "napanee\n",
      "dolzhanskaya\n",
      "naze\n",
      "oranjestad\n",
      "murdochville\n",
      "tilzapotla\n",
      "pozo colorado\n",
      "shambu\n",
      "san jose\n",
      "plettenberg bay\n",
      "kungurtug\n",
      "deputatskiy\n",
      "esperance\n",
      "city not found\n",
      "lasa\n",
      "basoko\n",
      "lompoc\n",
      "chapleau\n",
      "shemonaikha\n",
      "padang\n",
      "city not found\n",
      "goure\n",
      "amboasary\n",
      "la palma\n",
      "kloulklubed\n",
      "tari\n",
      "seoul\n",
      "belmonte\n",
      "manggar\n",
      "korla\n",
      "dingle\n",
      "pueblo rico\n",
      "inhambane\n",
      "clyde river\n",
      "touros\n",
      "nicoya\n",
      "massaguet\n",
      "city not found\n",
      "porkhov\n",
      "san policarpo\n",
      "city not found\n",
      "surt\n",
      "akureyri\n",
      "lufilufi\n",
      "city not found\n",
      "saint george\n",
      "cetraro\n",
      "saskylakh\n",
      "constitucion\n",
      "fairbanks\n",
      "broken hill\n",
      "city not found\n",
      "ikalamavony\n",
      "tuatapere\n",
      "mount isa\n",
      "coquimbo\n",
      "yarada\n",
      "wladyslawowo\n",
      "sept-iles\n",
      "griffith\n",
      "luganville\n",
      "hay river\n",
      "ancud\n",
      "grindavik\n",
      "ejido\n",
      "peniche\n",
      "olafsvik\n",
      "kavaratti\n",
      "dzerzhinskoye\n",
      "boa vista\n",
      "kolda\n",
      "ambilobe\n",
      "carballo\n",
      "city not found\n",
      "tucumcari\n",
      "pisco\n",
      "marawi\n",
      "ixtapa\n",
      "madang\n",
      "kijabe\n",
      "city not found\n",
      "tucurui\n",
      "choix\n",
      "phek\n",
      "mao\n",
      "port lincoln\n",
      "kutum\n",
      "nioro\n",
      "rongcheng\n",
      "putina\n",
      "ribeira grande\n",
      "plouzane\n",
      "huarmey\n",
      "vila\n",
      "beloha\n",
      "mirzapur\n",
      "city not found\n",
      "jalgaon\n",
      "kismayo\n",
      "mount gambier\n",
      "pangody\n",
      "basco\n",
      "saint anthony\n",
      "zhongshu\n",
      "khatanga\n",
      "city not found\n",
      "mangrol\n",
      "narsaq\n",
      "mildura\n",
      "bonthe\n",
      "horki\n",
      "kuching\n",
      "nouadhibou\n",
      "norsup\n",
      "bida\n",
      "maldonado\n",
      "saint pete beach\n",
      "faanui\n",
      "city not found\n",
      "jiuquan\n",
      "obo\n",
      "tazmalt\n",
      "city not found\n",
      "dunedin\n",
      "papenburg\n",
      "cherskiy\n",
      "aykhal\n",
      "novoagansk\n",
      "mogadishu\n",
      "carora\n",
      "ulagan\n",
      "sitka\n",
      "jaguey grande\n",
      "carutapera\n",
      "iqaluit\n",
      "domna\n",
      "kanlagay\n",
      "gushikawa\n",
      "asadabad\n",
      "awjilah\n",
      "avera\n",
      "dodge city\n",
      "cidreira\n",
      "hasaki\n",
      "itarema\n",
      "batagay\n",
      "nantucket\n",
      "batagay-alyta\n",
      "cabo san lucas\n",
      "aasiaat\n",
      "rio claro\n",
      "city not found\n",
      "manga\n",
      "taksimo\n",
      "launceston\n",
      "biloela\n",
      "anadyr\n",
      "karratha\n",
      "bathsheba\n",
      "staunton\n",
      "nattam\n",
      "novyy urengoy\n",
      "monte patria\n",
      "asyut\n",
      "bogande\n",
      "matongo\n",
      "gat\n",
      "yar-sale\n",
      "weligama\n",
      "chara\n",
      "marquette\n",
      "kashan\n",
      "tazovskiy\n",
      "quang ngai\n",
      "sola\n",
      "isangel\n",
      "aloleng\n",
      "nalut\n",
      "severo-kurilsk\n",
      "lazarev\n",
      "city not found\n",
      "bam\n",
      "tomino\n",
      "kindu\n",
      "camacha\n",
      "montes claros\n",
      "kamenka\n",
      "panzhihua\n",
      "saint-pierre\n",
      "marsh harbour\n",
      "rodnykove\n",
      "pokosnoye\n",
      "kushima\n",
      "shache\n",
      "rondonopolis\n",
      "keratea\n",
      "verkhnyaya inta\n",
      "tuy hoa\n",
      "edd\n",
      "sarh\n",
      "tsalenjikha\n",
      "yarim\n",
      "bara\n",
      "city not found\n",
      "cayenne\n",
      "adrar\n",
      "lerwick\n",
      "guerrero negro\n",
      "city not found\n",
      "antalaha\n",
      "city not found\n",
      "city not found\n",
      "oranjemund\n",
      "tongchuan\n",
      "onega\n",
      "biak\n",
      "boo\n",
      "shenjiamen\n",
      "praia da vitoria\n",
      "port keats\n",
      "neepawa\n",
      "rio grande\n",
      "manicore\n",
      "marsaxlokk\n",
      "city not found\n",
      "pemangkat\n",
      "pangnirtung\n",
      "city not found\n",
      "carlyle\n",
      "lorengau\n",
      "zhangye\n",
      "ulladulla\n",
      "north bend\n",
      "fukue\n",
      "constantine\n",
      "rock sound\n",
      "city not found\n",
      "beringovskiy\n",
      "shu\n",
      "kirovskiy\n",
      "altay\n",
      "pacific grove\n",
      "york\n",
      "ust-karsk\n",
      "llandrindod wells\n",
      "grand island\n",
      "corrales\n",
      "chlumec\n",
      "zeya\n",
      "lac-megantic\n",
      "meulaboh\n",
      "taltal\n",
      "viedma\n",
      "kavieng\n",
      "dali\n",
      "san ramon\n",
      "san quintin\n",
      "fort-shevchenko\n",
      "tucupita\n",
      "dawlatabad\n",
      "ahuimanu\n",
      "forbes\n",
      "surin\n",
      "santo antonio do ica\n",
      "jardim\n",
      "creel\n",
      "bichena\n",
      "lusambo\n",
      "kayerkan\n",
      "bonavista\n",
      "marsa matruh\n",
      "otradnoye\n",
      "orocue\n",
      "aklavik\n",
      "city not found\n",
      "wasilla\n",
      "kalmunai\n",
      "city not found\n",
      "machico\n",
      "harenkarspel\n",
      "aksarka\n",
      "kalabo\n",
      "bandarbeyla\n",
      "labuhan\n",
      "sar-e pul\n",
      "omboue\n",
      "fatezh\n",
      "blackfoot\n",
      "alamosa\n",
      "maihar\n",
      "eganville\n",
      "tongliao\n",
      "andra\n",
      "portland\n",
      "ningxiang\n",
      "miyako\n",
      "torbat-e jam\n",
      "houma\n",
      "along\n",
      "rapid valley\n",
      "nhulunbuy\n",
      "shimoda\n",
      "vanimo\n",
      "peleduy\n",
      "paamiut\n",
      "great falls\n",
      "snezhnogorsk\n",
      "bardiyah\n",
      "alakurtti\n",
      "likasi\n",
      "kirakira\n",
      "saint-joseph\n",
      "talnakh\n",
      "canton\n",
      "ewa beach\n",
      "nelson bay\n",
      "manono\n",
      "yulara\n",
      "halifax\n",
      "tsaratanana\n",
      "ust-ordynskiy\n",
      "tabou\n",
      "tungor\n",
      "sitia\n",
      "anshun\n",
      "nanortalik\n",
      "knysna\n",
      "city not found\n",
      "villarrica\n",
      "sahuaripa\n",
      "zernograd\n",
      "balakhta\n",
      "vestmanna\n",
      "berezovyy\n",
      "city not found\n",
      "city not found\n",
      "kargasok\n",
      "caldwell\n",
      "phulabani\n",
      "catuday\n",
      "giyani\n",
      "srandakan\n",
      "vaitape\n",
      "terrace bay\n",
      "nsukka\n",
      "damaturu\n",
      "garni\n",
      "port blair\n",
      "evensk\n",
      "feldbach\n",
      "chadiza\n",
      "cap malheureux\n",
      "sao filipe\n",
      "egvekinot\n",
      "san felipe\n",
      "golden\n",
      "leshukonskoye\n",
      "mangaratiba\n",
      "luderitz\n",
      "poum\n",
      "belen\n",
      "barra\n",
      "elat\n",
      "russell\n",
      "rabo de peixe\n",
      "voh\n",
      "taoudenni\n",
      "zyryanskoye\n",
      "kenai\n",
      "city not found\n",
      "ketchikan\n",
      "humaita\n",
      "mama\n",
      "pudozh\n",
      "pueblo\n",
      "mokhsogollokh\n",
      "serov\n",
      "doha\n",
      "banda aceh\n",
      "gonbad-e qabus\n",
      "kosh-agach\n",
      "sangar\n",
      "lazaro cardenas\n",
      "jodiya\n",
      "uige\n",
      "sakaiminato\n",
      "black river\n",
      "brae\n",
      "dukat\n",
      "saint-denis\n",
      "wajid\n",
      "rouvroy\n",
      "honningsvag\n",
      "castrillon\n",
      "sibu\n",
      "weatherford\n",
      "truckee\n",
      "sinnamary\n",
      "gravdal\n",
      "kerema\n",
      "moron\n",
      "la asuncion\n",
      "outjo\n",
      "tocopilla\n",
      "khandyga\n",
      "acapulco\n"
     ]
    }
   ],
   "source": [
    "# Save config information.\n",
    "url = \"http://api.openweathermap.org/data/2.5/weather?\"\n",
    "units = \"metric\"\n",
    "#build partial query url\n",
    "query_url = f\"{url}appid={weather_api_key}&units={units}&q=\"\n",
    "# set up list to hold info\n",
    "name = []\n",
    "cloudiness = []\n",
    "country = []\n",
    "date = []\n",
    "humidity = []\n",
    "lat = []\n",
    "lng = []\n",
    "max_temp = []\n",
    "wind_speed = []\n",
    "\n",
    "# Make a request for each of the cities\n",
    "for city in cities:\n",
    "    try:\n",
    "        response = requests.get(query_url + city).json()\n",
    "        name.append(response[\"name\"]),\n",
    "        cloudiness.append(response[\"clouds\"][\"all\"])\n",
    "        country.append(response['sys']['country'])\n",
    "        date.append(response[\"dt\"])\n",
    "        humidity.append(response['main']['humidity'])\n",
    "        lat.append(response['coord']['lat'])\n",
    "        lng.append(response['coord']['lon'])\n",
    "        max_temp.append(response['main']['temp_max'])\n",
    "        wind_speed.append(response['wind']['speed'])\n",
    "        print(city)\n",
    "    except:\n",
    "        print(\"city not found\")\n"
   ]
  },
  {
   "cell_type": "markdown",
   "metadata": {},
   "source": [
    "### Convert Raw Data to DataFrame\n",
    "* Export the city data into a .csv.\n",
    "* Display the DataFrame"
   ]
  },
  {
   "cell_type": "code",
   "execution_count": 5,
   "metadata": {},
   "outputs": [],
   "source": [
    "weather_dict = {\n",
    "    \"cities\": name,\n",
    "    \"Latitude\" : lat,\n",
    "    \"Longitude\": lng,\n",
    "    \"Temp\" : max_temp,\n",
    "    \"Humidity\": humidity,\n",
    "    \"Windspeed\" : wind_speed,\n",
    "    \"Cloudiness\": cloudiness,\n",
    "    \"Country\":country,\n",
    "    \"Date\": date\n",
    "}\n",
    "\n",
    "weather_df = pd.DataFrame(weather_dict)\n"
   ]
  },
  {
   "cell_type": "code",
   "execution_count": 6,
   "metadata": {},
   "outputs": [
    {
     "data": {
      "text/html": [
       "<div>\n",
       "<style scoped>\n",
       "    .dataframe tbody tr th:only-of-type {\n",
       "        vertical-align: middle;\n",
       "    }\n",
       "\n",
       "    .dataframe tbody tr th {\n",
       "        vertical-align: top;\n",
       "    }\n",
       "\n",
       "    .dataframe thead th {\n",
       "        text-align: right;\n",
       "    }\n",
       "</style>\n",
       "<table border=\"1\" class=\"dataframe\">\n",
       "  <thead>\n",
       "    <tr style=\"text-align: right;\">\n",
       "      <th></th>\n",
       "      <th>cities</th>\n",
       "      <th>Latitude</th>\n",
       "      <th>Longitude</th>\n",
       "      <th>Temp</th>\n",
       "      <th>Humidity</th>\n",
       "      <th>Windspeed</th>\n",
       "      <th>Cloudiness</th>\n",
       "      <th>Country</th>\n",
       "      <th>Date</th>\n",
       "    </tr>\n",
       "  </thead>\n",
       "  <tbody>\n",
       "    <tr>\n",
       "      <th>0</th>\n",
       "      <td>Torbay</td>\n",
       "      <td>47.67</td>\n",
       "      <td>-52.73</td>\n",
       "      <td>1.67</td>\n",
       "      <td>69</td>\n",
       "      <td>4.10</td>\n",
       "      <td>40</td>\n",
       "      <td>CA</td>\n",
       "      <td>1587778966</td>\n",
       "    </tr>\n",
       "    <tr>\n",
       "      <th>1</th>\n",
       "      <td>Khasan</td>\n",
       "      <td>42.43</td>\n",
       "      <td>130.64</td>\n",
       "      <td>3.92</td>\n",
       "      <td>89</td>\n",
       "      <td>5.21</td>\n",
       "      <td>93</td>\n",
       "      <td>RU</td>\n",
       "      <td>1587779097</td>\n",
       "    </tr>\n",
       "    <tr>\n",
       "      <th>2</th>\n",
       "      <td>Chui</td>\n",
       "      <td>-33.70</td>\n",
       "      <td>-53.46</td>\n",
       "      <td>20.24</td>\n",
       "      <td>74</td>\n",
       "      <td>4.08</td>\n",
       "      <td>80</td>\n",
       "      <td>UY</td>\n",
       "      <td>1587779035</td>\n",
       "    </tr>\n",
       "    <tr>\n",
       "      <th>3</th>\n",
       "      <td>Mataura</td>\n",
       "      <td>-46.19</td>\n",
       "      <td>168.86</td>\n",
       "      <td>12.78</td>\n",
       "      <td>72</td>\n",
       "      <td>8.05</td>\n",
       "      <td>55</td>\n",
       "      <td>NZ</td>\n",
       "      <td>1587778948</td>\n",
       "    </tr>\n",
       "    <tr>\n",
       "      <th>4</th>\n",
       "      <td>Rudnaya Pristan'</td>\n",
       "      <td>44.36</td>\n",
       "      <td>135.81</td>\n",
       "      <td>7.57</td>\n",
       "      <td>57</td>\n",
       "      <td>3.20</td>\n",
       "      <td>41</td>\n",
       "      <td>RU</td>\n",
       "      <td>1587779098</td>\n",
       "    </tr>\n",
       "    <tr>\n",
       "      <th>...</th>\n",
       "      <td>...</td>\n",
       "      <td>...</td>\n",
       "      <td>...</td>\n",
       "      <td>...</td>\n",
       "      <td>...</td>\n",
       "      <td>...</td>\n",
       "      <td>...</td>\n",
       "      <td>...</td>\n",
       "      <td>...</td>\n",
       "    </tr>\n",
       "    <tr>\n",
       "      <th>579</th>\n",
       "      <td>La Asuncion</td>\n",
       "      <td>11.03</td>\n",
       "      <td>-63.86</td>\n",
       "      <td>27.00</td>\n",
       "      <td>83</td>\n",
       "      <td>8.70</td>\n",
       "      <td>3</td>\n",
       "      <td>VE</td>\n",
       "      <td>1587779270</td>\n",
       "    </tr>\n",
       "    <tr>\n",
       "      <th>580</th>\n",
       "      <td>Outjo</td>\n",
       "      <td>-20.12</td>\n",
       "      <td>16.15</td>\n",
       "      <td>13.35</td>\n",
       "      <td>45</td>\n",
       "      <td>0.97</td>\n",
       "      <td>0</td>\n",
       "      <td>NA</td>\n",
       "      <td>1587779270</td>\n",
       "    </tr>\n",
       "    <tr>\n",
       "      <th>581</th>\n",
       "      <td>Tocopilla</td>\n",
       "      <td>-22.09</td>\n",
       "      <td>-70.20</td>\n",
       "      <td>21.28</td>\n",
       "      <td>39</td>\n",
       "      <td>1.70</td>\n",
       "      <td>18</td>\n",
       "      <td>CL</td>\n",
       "      <td>1587778965</td>\n",
       "    </tr>\n",
       "    <tr>\n",
       "      <th>582</th>\n",
       "      <td>Khandyga</td>\n",
       "      <td>62.67</td>\n",
       "      <td>135.60</td>\n",
       "      <td>2.78</td>\n",
       "      <td>72</td>\n",
       "      <td>1.76</td>\n",
       "      <td>0</td>\n",
       "      <td>RU</td>\n",
       "      <td>1587779270</td>\n",
       "    </tr>\n",
       "    <tr>\n",
       "      <th>583</th>\n",
       "      <td>Acapulco de Juárez</td>\n",
       "      <td>16.86</td>\n",
       "      <td>-99.89</td>\n",
       "      <td>25.00</td>\n",
       "      <td>88</td>\n",
       "      <td>2.60</td>\n",
       "      <td>40</td>\n",
       "      <td>MX</td>\n",
       "      <td>1587778840</td>\n",
       "    </tr>\n",
       "  </tbody>\n",
       "</table>\n",
       "<p>584 rows × 9 columns</p>\n",
       "</div>"
      ],
      "text/plain": [
       "                 cities  Latitude  Longitude   Temp  Humidity  Windspeed  \\\n",
       "0                Torbay     47.67     -52.73   1.67        69       4.10   \n",
       "1                Khasan     42.43     130.64   3.92        89       5.21   \n",
       "2                  Chui    -33.70     -53.46  20.24        74       4.08   \n",
       "3               Mataura    -46.19     168.86  12.78        72       8.05   \n",
       "4      Rudnaya Pristan'     44.36     135.81   7.57        57       3.20   \n",
       "..                  ...       ...        ...    ...       ...        ...   \n",
       "579         La Asuncion     11.03     -63.86  27.00        83       8.70   \n",
       "580               Outjo    -20.12      16.15  13.35        45       0.97   \n",
       "581           Tocopilla    -22.09     -70.20  21.28        39       1.70   \n",
       "582            Khandyga     62.67     135.60   2.78        72       1.76   \n",
       "583  Acapulco de Juárez     16.86     -99.89  25.00        88       2.60   \n",
       "\n",
       "     Cloudiness Country        Date  \n",
       "0            40      CA  1587778966  \n",
       "1            93      RU  1587779097  \n",
       "2            80      UY  1587779035  \n",
       "3            55      NZ  1587778948  \n",
       "4            41      RU  1587779098  \n",
       "..          ...     ...         ...  \n",
       "579           3      VE  1587779270  \n",
       "580           0      NA  1587779270  \n",
       "581          18      CL  1587778965  \n",
       "582           0      RU  1587779270  \n",
       "583          40      MX  1587778840  \n",
       "\n",
       "[584 rows x 9 columns]"
      ]
     },
     "execution_count": 6,
     "metadata": {},
     "output_type": "execute_result"
    }
   ],
   "source": [
    "weather_df"
   ]
  },
  {
   "cell_type": "markdown",
   "metadata": {},
   "source": [
    "### Plotting the Data\n",
    "* Use proper labeling of the plots using plot titles (including date of analysis) and axes labels.\n",
    "* Save the plotted figures as .pngs."
   ]
  },
  {
   "cell_type": "markdown",
   "metadata": {},
   "source": [
    "#### Latitude vs. Temperature Plot"
   ]
  },
  {
   "cell_type": "code",
   "execution_count": 13,
   "metadata": {},
   "outputs": [
    {
     "data": {
      "image/png": "[encoded data removed]",
      "text/plain": [
       "<Figure size 432x288 with 1 Axes>"
      ]
     },
     "metadata": {
      "needs_background": "light"
     },
     "output_type": "display_data"
    }
   ],
   "source": [
    "# Create a Scatter Plot for temperature vs latitude\n",
    "x_values = weather_df['Latitude']\n",
    "y_values = weather_df['Temp']\n",
    "plt.scatter(x_values,y_values)\n",
    "plt.xlabel('Latitude')\n",
    "plt.ylabel('Temperature')\n",
    "plt.title('Latitude VS Temperature', fontsize=8)\n",
    "plt.grid()\n",
    "plt.show()\n",
    "plt.show()"
   ]
  },
  {
   "cell_type": "markdown",
   "metadata": {},
   "source": [
    "#### Latitude vs. Humidity Plot"
   ]
  },
  {
   "cell_type": "code",
   "execution_count": 12,
   "metadata": {
    "scrolled": true
   },
   "outputs": [
    {
     "data": {
      "image/png": "[encoded data removed]",
      "text/plain": [
       "<Figure size 432x288 with 1 Axes>"
      ]
     },
     "metadata": {
      "needs_background": "light"
     },
     "output_type": "display_data"
    }
   ],
   "source": [
    "# Create a Scatter Plot for temperature vs Humidity\n",
    "x_values = weather_df['Latitude']\n",
    "y_values = weather_df['Humidity']\n",
    "plt.scatter(x_values,y_values)\n",
    "plt.xlabel('Latitude')\n",
    "plt.ylabel('Humidity (%)')\n",
    "plt.title('Latitude VS Humidity %', fontsize=8)\n",
    "plt.grid()\n",
    "plt.show()"
   ]
  },
  {
   "cell_type": "markdown",
   "metadata": {},
   "source": [
    "#### Latitude vs. Cloudiness Plot"
   ]
  },
  {
   "cell_type": "code",
   "execution_count": 16,
   "metadata": {},
   "outputs": [
    {
     "data": {
      "image/png": "[encoded data removed]",
      "text/plain": [
       "<Figure size 432x288 with 1 Axes>"
      ]
     },
     "metadata": {
      "needs_background": "light"
     },
     "output_type": "display_data"
    }
   ],
   "source": [
    "# Create a Scatter Plot for temperature vs cloudiness\n",
    "x_values = weather_df['Latitude']\n",
    "y_values = weather_df['Cloudiness']\n",
    "plt.scatter(x_values,y_values)\n",
    "plt.xlabel('Latitude')\n",
    "plt.ylabel('Cloudiness')\n",
    "plt.title('Latitude VS Cloudiness', fontsize=8)\n",
    "plt.grid()\n",
    "plt.show()"
   ]
  },
  {
   "cell_type": "markdown",
   "metadata": {},
   "source": [
    "#### Latitude vs. Wind Speed Plot"
   ]
  },
  {
   "cell_type": "code",
   "execution_count": 17,
   "metadata": {},
   "outputs": [
    {
     "data": {
      "image/png": "[encoded data removed]",
      "text/plain": [
       "<Figure size 432x288 with 1 Axes>"
      ]
     },
     "metadata": {
      "needs_background": "light"
     },
     "output_type": "display_data"
    }
   ],
   "source": [
    "# Create a Scatter Plot for temperature vs cloudiness\n",
    "x_values = weather_df['Latitude']\n",
    "y_values = weather_df['Windspeed']\n",
    "plt.scatter(x_values,y_values)\n",
    "plt.xlabel('Latitude')\n",
    "plt.ylabel('Windspeed')\n",
    "plt.title('City Latitude VS Wind speed', fontsize=8)\n",
    "plt.grid()\n",
    "plt.show()"
   ]
  },
  {
   "cell_type": "markdown",
   "metadata": {},
   "source": [
    "## Linear Regression"
   ]
  },
  {
   "cell_type": "code",
   "execution_count": 108,
   "metadata": {},
   "outputs": [],
   "source": [
    "# OPTIONAL: Create a function to create Linear Regression plots\n"
   ]
  },
  {
   "cell_type": "code",
   "execution_count": 78,
   "metadata": {},
   "outputs": [],
   "source": [
    "# Create Northern and Southern Hemisphere DataFrames\n"
   ]
  },
  {
   "cell_type": "markdown",
   "metadata": {},
   "source": [
    "####  Northern Hemisphere - Max Temp vs. Latitude Linear Regression"
   ]
  },
  {
   "cell_type": "code",
   "execution_count": 109,
   "metadata": {},
   "outputs": [
    {
     "name": "stdout",
     "output_type": "stream",
     "text": [
      "The r-squared is: -0.8151657406810827\n"
     ]
    },
    {
     "data": {
      "image/png": "[encoded data removed]",
      "text/plain": [
       "<matplotlib.figure.Figure at 0x1a20ab3518>"
      ]
     },
     "metadata": {},
     "output_type": "display_data"
    }
   ],
   "source": []
  },
  {
   "cell_type": "markdown",
   "metadata": {},
   "source": [
    "####  Southern Hemisphere - Max Temp vs. Latitude Linear Regression"
   ]
  },
  {
   "cell_type": "code",
   "execution_count": 110,
   "metadata": {},
   "outputs": [
    {
     "name": "stdout",
     "output_type": "stream",
     "text": [
      "The r-squared is: 0.760263355051646\n"
     ]
    },
    {
     "data": {
      "image/png": "[encoded data removed]",
      "text/plain": [
       "<matplotlib.figure.Figure at 0x1a20012470>"
      ]
     },
     "metadata": {},
     "output_type": "display_data"
    }
   ],
   "source": []
  },
  {
   "cell_type": "markdown",
   "metadata": {},
   "source": [
    "####  Northern Hemisphere - Humidity (%) vs. Latitude Linear Regression"
   ]
  },
  {
   "cell_type": "code",
   "execution_count": 111,
   "metadata": {},
   "outputs": [
    {
     "name": "stdout",
     "output_type": "stream",
     "text": [
      "The r-squared is: 0.10358336015746494\n"
     ]
    },
    {
     "data": {
      "image/png": "[encoded data removed]",
      "text/plain": [
       "<matplotlib.figure.Figure at 0x11ddce780>"
      ]
     },
     "metadata": {},
     "output_type": "display_data"
    }
   ],
   "source": []
  },
  {
   "cell_type": "markdown",
   "metadata": {},
   "source": [
    "####  Southern Hemisphere - Humidity (%) vs. Latitude Linear Regression"
   ]
  },
  {
   "cell_type": "code",
   "execution_count": 112,
   "metadata": {},
   "outputs": [
    {
     "name": "stdout",
     "output_type": "stream",
     "text": [
      "The r-squared is: 0.14689473425583055\n"
     ]
    },
    {
     "data": {
      "image/png": "[encoded data removed]",
      "text/plain": [
       "<matplotlib.figure.Figure at 0x1a20066438>"
      ]
     },
     "metadata": {},
     "output_type": "display_data"
    }
   ],
   "source": []
  },
  {
   "cell_type": "markdown",
   "metadata": {},
   "source": [
    "####  Northern Hemisphere - Cloudiness (%) vs. Latitude Linear Regression"
   ]
  },
  {
   "cell_type": "code",
   "execution_count": 115,
   "metadata": {},
   "outputs": [
    {
     "name": "stdout",
     "output_type": "stream",
     "text": [
      "The r-squared is: -0.08733547918934018\n"
     ]
    },
    {
     "data": {
      "image/png": "[encoded data removed]",
      "text/plain": [
       "<matplotlib.figure.Figure at 0x1a20b2e898>"
      ]
     },
     "metadata": {},
     "output_type": "display_data"
    }
   ],
   "source": []
  },
  {
   "cell_type": "markdown",
   "metadata": {},
   "source": [
    "####  Southern Hemisphere - Cloudiness (%) vs. Latitude Linear Regression"
   ]
  },
  {
   "cell_type": "code",
   "execution_count": 114,
   "metadata": {},
   "outputs": [
    {
     "name": "stdout",
     "output_type": "stream",
     "text": [
      "The r-squared is: 0.21881426893991618\n"
     ]
    },
    {
     "data": {
      "image/png": "[encoded data removed]",
      "text/plain": [
       "<matplotlib.figure.Figure at 0x1a20affa20>"
      ]
     },
     "metadata": {},
     "output_type": "display_data"
    }
   ],
   "source": []
  },
  {
   "cell_type": "markdown",
   "metadata": {},
   "source": [
    "####  Northern Hemisphere - Wind Speed (mph) vs. Latitude Linear Regression"
   ]
  },
  {
   "cell_type": "code",
   "execution_count": 117,
   "metadata": {},
   "outputs": [
    {
     "name": "stdout",
     "output_type": "stream",
     "text": [
      "The r-squared is: 0.1071382774388479\n"
     ]
    },
    {
     "data": {
      "image/png": "[encoded data removed]",
      "text/plain": [
       "<matplotlib.figure.Figure at 0x1a1f4bae48>"
      ]
     },
     "metadata": {},
     "output_type": "display_data"
    }
   ],
   "source": []
  },
  {
   "cell_type": "markdown",
   "metadata": {},
   "source": [
    "####  Southern Hemisphere - Wind Speed (mph) vs. Latitude Linear Regression"
   ]
  },
  {
   "cell_type": "code",
   "execution_count": 116,
   "metadata": {},
   "outputs": [
    {
     "name": "stdout",
     "output_type": "stream",
     "text": [
      "The r-squared is: -0.322483077139538\n"
     ]
    },
    {
     "data": {
      "image/png": "[encoded data removed]",
      "text/plain": [
       "<matplotlib.figure.Figure at 0x1a212ed940>"
      ]
     },
     "metadata": {},
     "output_type": "display_data"
    }
   ],
   "source": []
  },
  {
   "cell_type": "code",
   "execution_count": null,
   "metadata": {},
   "outputs": [],
   "source": []
  }
 ],
 "metadata": {
  "anaconda-cloud": {},
  "kernel_info": {
   "name": "python3"
  },
  "kernelspec": {
   "display_name": "Python 3",
   "language": "python",
   "name": "python3"
  },
  "language_info": {
   "codemirror_mode": {
    "name": "ipython",
    "version": 3
   },
   "file_extension": ".py",
   "mimetype": "text/x-python",
   "name": "python",
   "nbconvert_exporter": "python",
   "pygments_lexer": "ipython3",
   "version": "3.6.9"
  },
  "latex_envs": {
   "LaTeX_envs_menu_present": true,
   "autoclose": false,
   "autocomplete": true,
   "bibliofile": "biblio.bib",
   "cite_by": "apalike",
   "current_citInitial": 1,
   "eqLabelWithNumbers": true,
   "eqNumInitial": 1,
   "hotkeys": {
    "equation": "Ctrl-E",
    "itemize": "Ctrl-I"
   },
   "labels_anchors": false,
   "latex_user_defs": false,
   "report_style_numbering": false,
   "user_envs_cfg": false
  },
  "nteract": {
   "version": "0.12.3"
  }
 },
 "nbformat": 4,
 "nbformat_minor": 2
}
